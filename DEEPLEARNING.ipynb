{
  "nbformat": 4,
  "nbformat_minor": 0,
  "metadata": {
    "colab": {
      "provenance": []
    },
    "kernelspec": {
      "name": "python3",
      "display_name": "Python 3"
    },
    "language_info": {
      "name": "python"
    }
  },
  "cells": [
    {
      "cell_type": "code",
      "execution_count": 1,
      "metadata": {
        "id": "7X-QKxaO9YRX"
      },
      "outputs": [],
      "source": [
        "from plot_lib import plot_data,plot_model,set_default"
      ]
    },
    {
      "cell_type": "code",
      "source": [
        "set_default()"
      ],
      "metadata": {
        "id": "MPRCz0H2CN_M"
      },
      "execution_count": 2,
      "outputs": []
    },
    {
      "cell_type": "code",
      "source": [
        "import torch\n",
        "import torch.nn as nn\n",
        "import torch.nn.functional as F\n",
        "import torch.optim as optim\n",
        "from torchvision import datasets, transforms\n",
        "import matplotlib.pyplot as plt\n",
        "import numpy\n",
        "\n",
        "#function to count number of parameters\n",
        "def get_n_params(model):\n",
        "  np = 0\n",
        "  for p in list(model.parameters()):\n",
        "    np+=p.nelement()\n",
        "  return np\n",
        "    \n"
      ],
      "metadata": {
        "id": "pAbY61oVCRNA"
      },
      "execution_count": 3,
      "outputs": []
    },
    {
      "cell_type": "code",
      "source": [
        "device = torch.device(\"cuda:0\" if torch.cuda.is_available() else \"cpu\")"
      ],
      "metadata": {
        "id": "Hi_t0_0HLznK"
      },
      "execution_count": 4,
      "outputs": []
    },
    {
      "cell_type": "code",
      "source": [
        "###torchvision.transforms.ToTensor[SOURCE]\n",
        "###Convert a PIL Image or numpy.ndarray to tensor. This transform does not support torchscript.\n",
        "\n",
        "###onverts a PIL Image or numpy.ndarray (H x W x C) in the range [0, 255] to a torch.FloatTensor of shape (C x H x W) in the range [0.0, 1.0] if the PIL Image belongs to one of the modes (L, LA, P, I, F, RGB, YCbCr, RGBA, CMYK, 1) or if the numpy.ndarray has dtype = np.uint8\n",
        "\n",
        "###In the other cases, tensors are returned without scaling.\n",
        "\n",
        "##Normalize = mean/standard deviation"
      ],
      "metadata": {
        "id": "0JgGdrhpaHNn"
      },
      "execution_count": 10,
      "outputs": []
    },
    {
      "cell_type": "code",
      "source": [
        " input_size = 28*28     #images are 28*28 pixels\n",
        " output_size = 10        #there are 10 classes\n",
        "\n",
        " train_loader = torch.utils.data.DataLoader(\n",
        "     datasets.MNIST(\"../data\", train =True, download = True,\n",
        "                    transform = transforms.Compose([\n",
        "                        transforms.ToTensor(),\n",
        "                        transforms.Normalize((0.1307,),(0.3081,))\n",
        "                    ])),\n",
        "                    batch_size = 64 , shuffle = True)\n",
        " test_loader = torch.utils.data.DataLoader(\n",
        "     datasets.MNIST(\"../data\", train =False, \n",
        "                    transform = transforms.Compose([\n",
        "                        transforms.ToTensor(),\n",
        "                        transforms.Normalize((0.1307,),(0.3081,))\n",
        "                    ])),\n",
        "                    batch_size = 1000 , shuffle = True)\n"
      ],
      "metadata": {
        "id": "wAx_gJ8kMKPm"
      },
      "execution_count": 54,
      "outputs": []
    },
    {
      "cell_type": "code",
      "source": [
        "#@title Default title text\n",
        "#numpy.squeeze(a, axis=None)\n",
        "#Remove axes of length one from a.\n",
        "\n",
        "#Parameters:\n",
        "#aarray_like\n",
        "#Input data.\n",
        "x = numpy.array([[[0], [1], [2]]])\n",
        "x.shape\n",
        "(1, 3, 1)\n",
        "numpy.squeeze(x).shape\n",
        "(3,)\n",
        "numpy.squeeze(x, axis=0).shape\n",
        "(3, 1)"
      ],
      "metadata": {
        "colab": {
          "base_uri": "https://localhost:8080/"
        },
        "id": "4jvrkl3Hbr9k",
        "outputId": "1c88d0e7-c3df-44bd-fe01-8d46b793a04d"
      },
      "execution_count": 55,
      "outputs": [
        {
          "output_type": "execute_result",
          "data": {
            "text/plain": [
              "(3, 1)"
            ]
          },
          "metadata": {},
          "execution_count": 55
        }
      ]
    },
    {
      "cell_type": "code",
      "source": [
        "plt.figure(figsize = (16,6))\n",
        "for i in range(10):\n",
        "  plt.subplot(2,5,i+1)\n",
        "  image,_ = train_loader.dataset.__getitem__(i)\n",
        "  plt.imshow(image.squeeze().numpy())\n",
        "  plt.axis('off');"
      ],
      "metadata": {
        "colab": {
          "base_uri": "https://localhost:8080/",
          "height": 489
        },
        "id": "mfLsLyHXwaQi",
        "outputId": "92ae767c-8188-44ce-c027-e170bef5bf7c"
      },
      "execution_count": 56,
      "outputs": [
        {
          "output_type": "display_data",
          "data": {
            "text/plain": [
              "<Figure size 1600x600 with 10 Axes>"
            ],
            "image/png": "[encoded data removed]"
          },
          "metadata": {}
        }
      ]
    },
    {
      "cell_type": "code",
      "source": [
        "class FC2Layer(nn.Module):\n",
        "  def __init__(self,input_size, n_hidden, output_size):\n",
        "   super(FC2Layer , self).__init__()\n",
        "   self.input_size = input_size\n",
        "   self.network = nn.Sequential(\n",
        "        nn.Linear(input_size , n_hidden),\n",
        "        nn.ReLU(),\n",
        "        nn.Linear(n_hidden , n_hidden),\n",
        "        nn.ReLU(),\n",
        "        nn.Linear(n_hidden , output_size),\n",
        "        nn.LogSoftmax(dim = 1)\n",
        "    )\n",
        "\n",
        "  def forward(self,x):\n",
        "    x = x.view(-1 , self.input_size)  # it put it in a long vector because it does not know how to deal with sth that is not a vector\n",
        "  \n",
        "    return self.network(x)\n",
        "\n",
        "class CNN(nn.Module):\n",
        "  def __init__(self , input_size , n_feature , output_size):\n",
        "    super(CNN, self).__init__()\n",
        "    self.n_feature = n_feature\n",
        "    self.conv1 = nn.Conv2d(in_channels=1 , out_channels= n_features , kernel_size=5)\n",
        "    self.conv2 = nn.Conv2d(n_feature , n_feature, kernel_size=5)\n",
        "    self.fc1 = nn.Linear(n_features*4*4 , 50)\n",
        "    self.fc2 = nn.Linear(50,10)\n",
        "\n",
        "  def forward(self, x , vector = False):\n",
        "    x= self.conv1(x)\n",
        "    x= F.relu(x)\n",
        "    x= F.max_pool2d(x, kernel_size = 2)\n",
        "    x = self.conv2(x)\n",
        "    x = F.relu(x)\n",
        "    x = F.max_pool2d(x , kernel_size = 2)\n",
        "    x = x.view(-1 , self.n_feature*4*4)\n",
        "    x = self.fc1(x)\n",
        "    x = F.relu(x)\n",
        "    self.fc2(x)\n",
        "    x = F.log_softmax(x , dim = 1)\n",
        "    return x\n",
        "\n",
        "\n"
      ],
      "metadata": {
        "id": "Cki8HgxIcj6e"
      },
      "execution_count": 96,
      "outputs": []
    },
    {
      "cell_type": "code",
      "source": [
        "##TORCH.ARANGE\n",
        "##torch.arange(start=0, end, step=1, *, out=None, dtype=None, layout=torch.strided, device=None, requires_grad=False) → Tensor\n",
        "#Returns a 1-D tensor of size \n",
        "#⌈\n",
        "#end−start/step\n",
        "\n",
        "\n",
        "##Note that non-integer step is subject to floating point rounding errors when comparing against end; to avoid inconsistency, we advise adding a small epsilon to end in such cases.\n",
        "\n",
        "#start (Number) – the starting value for the set of points. Default: 0.\n",
        "\n",
        "#end (Number) – the ending value for the set of points\n",
        "\n",
        "#step (Number) – the gap between each pair of adjacent points. Default: 1.\n",
        "### torch.arange(5)\n",
        "###tensor([ 0,  1,  2,  3,  4])\n",
        "### torch.arange(1, 4)\n",
        "###tensor([ 1,  2,  3])\n",
        "### torch.arange(1, 2.5, 0.5)\n",
        "##ensor([ 1.0000,  1.5000,  2.0000])"
      ],
      "metadata": {
        "id": "RbLYUiqjotgb"
      },
      "execution_count": 97,
      "outputs": []
    },
    {
      "cell_type": "code",
      "source": [
        "#TORCH.TENSOR.LONG\n",
        "#Tensor.long(memory_format=torch.preserve_format) → Tensor\n",
        "#self.long() is equivalent to self.to(torch.int64). See to().\n",
        "\n",
        "#Parameters:\n",
        "#memory_format (torch.memory_format, optional) – the desired memory format of returned Tensor. Default: torch.preserve_format."
      ],
      "metadata": {
        "id": "oS9HyowZrtYb"
      },
      "execution_count": 98,
      "outputs": []
    },
    {
      "cell_type": "code",
      "source": [
        "#TORCH.OPTIM.OPTIMIZER.ZERO_GRAD\n",
        "#Optimizer.zero_grad(set_to_none=False)[source]\n",
        "#Sets the gradients of all optimized torch.Tensor s to zero."
      ],
      "metadata": {
        "id": "QHCBh0_Ns6jC"
      },
      "execution_count": 99,
      "outputs": []
    },
    {
      "cell_type": "code",
      "source": [
        "#CLASStorch.nn.NLLLoss(weight=None, size_average=None, ignore_index=- 100, reduce=None, reduction='mean')[SOURCE]\n",
        "##The negative log likelihood loss. It is useful to train a classification problem with C classes."
      ],
      "metadata": {
        "id": "p4L-osNGtSR1"
      },
      "execution_count": 100,
      "outputs": []
    },
    {
      "cell_type": "code",
      "source": [
        "accuracy_list = []\n",
        "\n",
        "def train(epoch , model , perm = torch.arange(0,784).long()):\n",
        "  model.train()\n",
        "  for bach_idx  , (data , target ) in enumerate(train_loader):\n",
        "    #senf to device\n",
        "    data, target = data.to(device) , target.to(device)\n",
        "\n",
        "    #promote pixels\n",
        "    data = data.view(-1 , 28*28)\n",
        "    data = data[: , perm]\n",
        "    data = data.view(-1 , 1 , 28 , 28)\n",
        "\n",
        "    optimizer.zero_grad()\n",
        "    output = model(data)\n",
        "    loss = F.nll_loss(output , target)\n",
        "    loss.backward()\n",
        "    optimizer.step()\n",
        "    if bach_idx % 100 == 0 :\n",
        "      print('Train Epoch: {} [{}/{} ({:.0f}%))\\tLoss:{:.6f}'.format(\n",
        "          epoch , bach_idx * len(data) , len(train_loader.dataset),\n",
        "          100. * bach_idx / len(train_loader) , loss.item()))\n",
        "      \n",
        "def test(model , perm = torch.arange(0,784).long()):\n",
        "  model.eval()\n",
        "  test_loss = 0\n",
        "  correct = 0\n",
        "  for data,target in test_loader:\n",
        "    #send to drive\n",
        "    data,target = data.to(device) , target.to(device)\n",
        "\n",
        "    #permute pixxels\n",
        "    data = data.view(-1 , 28 * 28)\n",
        "    data = data[:,perm]\n",
        "    data = data.view(-1 , 1 ,28, 28 )\n",
        "    output = model(data)\n",
        "    test_loss += F.nll_loss(output , target , reduction= 'sum').item() #sum up bach loss\n",
        "    pred = output.data.max(1 , keepdim = True)[1] #get the index of the max log probablity\n",
        "    correct += pred.eq(target.data.view_as(pred)).cpu().sum().item()\n",
        "\n",
        "  test_loss /= len(test_loader.dataset)\n",
        "  accuracy = 100 * correct / len(test_loader.dataset)\n",
        "  accuracy_list.append(accuracy)\n",
        "  print ('\\nTest set : Average loss: {:.4f}, Accuracy: {} / {} ({:.0f}%)\\n'.format(\n",
        "      test_loss , correct , len(test_loader.dataset),\n",
        "      accuracy\n",
        "  ))\n",
        "\n",
        "\n",
        "      "
      ],
      "metadata": {
        "id": "9EVmiwqCbQ8f"
      },
      "execution_count": 101,
      "outputs": []
    },
    {
      "cell_type": "code",
      "source": [
        "print(torch.__version__)"
      ],
      "metadata": {
        "colab": {
          "base_uri": "https://localhost:8080/"
        },
        "id": "pRon5mqS_11C",
        "outputId": "5dfb8f27-cb4f-4920-e67f-3bdf448e5d71"
      },
      "execution_count": 102,
      "outputs": [
        {
          "output_type": "stream",
          "name": "stdout",
          "text": [
            "1.13.1+cu116\n"
          ]
        }
      ]
    },
    {
      "cell_type": "code",
      "source": [
        "n_hidden = 8 #number of hidden units\n",
        "output_size = 10\n",
        "model_fnn = FC2Layer(input_size , n_hidden , output_size)\n",
        "model_fnn.to(device)\n",
        "optimizer = optim.SGD(model_fnn.parameters() , lr = 0.01 , momentum = 0.5)\n",
        "print('Number of parameters: {}'.format(get_n_params(model_fnn)))\n",
        "\n",
        "for epoch in range (0,1):\n",
        "  train(epoch , model_fnn)\n",
        "  test(model_fnn)"
      ],
      "metadata": {
        "colab": {
          "base_uri": "https://localhost:8080/"
        },
        "id": "hTp0-SLcsY_N",
        "outputId": "b59f3127-1980-416f-a0fc-2eea58caf6c3"
      },
      "execution_count": 103,
      "outputs": [
        {
          "output_type": "stream",
          "name": "stdout",
          "text": [
            "Number of parameters: 6442\n",
            "Train Epoch: 0 [0/60000 (0%))\tLoss:2.313622\n",
            "Train Epoch: 0 [6400/60000 (11%))\tLoss:1.956302\n",
            "Train Epoch: 0 [12800/60000 (21%))\tLoss:1.374655\n",
            "Train Epoch: 0 [19200/60000 (32%))\tLoss:0.650677\n",
            "Train Epoch: 0 [25600/60000 (43%))\tLoss:0.645593\n",
            "Train Epoch: 0 [32000/60000 (53%))\tLoss:0.647072\n",
            "Train Epoch: 0 [38400/60000 (64%))\tLoss:0.621418\n",
            "Train Epoch: 0 [44800/60000 (75%))\tLoss:0.377073\n",
            "Train Epoch: 0 [51200/60000 (85%))\tLoss:0.387177\n",
            "Train Epoch: 0 [57600/60000 (96%))\tLoss:0.327966\n",
            "\n",
            "Test set : Average loss: 0.3910, Accuracy: 8849 / 10000 (88%)\n",
            "\n"
          ]
        }
      ]
    },
    {
      "cell_type": "code",
      "source": [
        "n_features = 6 \n",
        "\n",
        "model_cnn = CNN(input_size , n_features , output_size)\n",
        "model_cnn.to(device)\n",
        "optimizer = optim.SGD(model_cnn.parameters() , lr = 0.01 , momentum = 0.5)\n",
        "print('number of parameters:{}'.format(get_n_params(model_cnn)))\n",
        "\n",
        "for epoch in range (0,1):\n",
        "  train(epoch , model_cnn)\n",
        "  test(model_cnn)"
      ],
      "metadata": {
        "colab": {
          "base_uri": "https://localhost:8080/"
        },
        "id": "RvFtAK81sZ5O",
        "outputId": "1ec5028d-cb1e-4b12-f61b-e5e6edc3c06d"
      },
      "execution_count": 104,
      "outputs": [
        {
          "output_type": "stream",
          "name": "stdout",
          "text": [
            "number of parameters:6422\n",
            "Train Epoch: 0 [0/60000 (0%))\tLoss:3.925295\n",
            "Train Epoch: 0 [6400/60000 (11%))\tLoss:1.736592\n",
            "Train Epoch: 0 [12800/60000 (21%))\tLoss:1.097207\n",
            "Train Epoch: 0 [19200/60000 (32%))\tLoss:1.025326\n",
            "Train Epoch: 0 [25600/60000 (43%))\tLoss:0.968549\n",
            "Train Epoch: 0 [32000/60000 (53%))\tLoss:0.636841\n",
            "Train Epoch: 0 [38400/60000 (64%))\tLoss:0.629455\n",
            "Train Epoch: 0 [44800/60000 (75%))\tLoss:0.938219\n",
            "Train Epoch: 0 [51200/60000 (85%))\tLoss:0.642865\n",
            "Train Epoch: 0 [57600/60000 (96%))\tLoss:0.529332\n",
            "\n",
            "Test set : Average loss: 0.2057, Accuracy: 9423 / 10000 (94%)\n",
            "\n"
          ]
        }
      ]
    },
    {
      "cell_type": "code",
      "source": [],
      "metadata": {
        "id": "CeKa-ci7Cfg7"
      },
      "execution_count": null,
      "outputs": []
    }
  ]
}